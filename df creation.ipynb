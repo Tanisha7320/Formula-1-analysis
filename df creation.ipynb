{
 "cells": [
  {
   "cell_type": "code",
   "execution_count": null,
   "id": "0204162b",
   "metadata": {},
   "outputs": [],
   "source": [
    "%pip install fastf1\n",
    "import fastf1\n",
    "import pandas as pd"
   ]
  },
  {
   "cell_type": "code",
   "execution_count": null,
   "id": "674512c4",
   "metadata": {},
   "outputs": [],
   "source": [
    "def get_silverstone_results(start_year, end_year):\n",
    "    all_results = []\n",
    "    for year in range(start_year, end_year + 1):\n",
    "        try:\n",
    "            session = fastf1.get_session(year, 'Silverstone', 'R')\n",
    "            session.load()\n",
    "            results = session.results\n",
    "            results['Year'] = year\n",
    "            all_results.append(results)\n",
    "        except Exception as e:\n",
    "            print(f\"Could not load data for year {year}: {e}\")\n",
    "    results_df = pd.concat(all_results, ignore_index=True)\n",
    "    return results_df[results_df['Status'] == 'Finished' & results_df['Position'] <= 10]\n",
    "\n",
    "    "
   ]
  },
  {
   "cell_type": "code",
   "execution_count": null,
   "id": "5f21b13f",
   "metadata": {},
   "outputs": [],
   "source": [
    "def pitstop_analysis(start_year, end_year):\n",
    "    pitstop_data = []\n",
    "    for year in range(start_year, end_year + 1):\n",
    "        try:\n",
    "            session = fastf1.get_session(year, 'Silverstone', 'R')\n",
    "            session.load()\n",
    "            unique = session.laps\n",
    "            unique[unique['PitInTime'].notna()] \n",
    "            unique[unique]\n",
    "            unique['PitStopCount'] = unique.groupby('Driver')['PitInTime'].transform('count')\n",
    "            unique = unique[unique['PitStopCount'] > 0]\n",
    "            unique['AveragePitStopDuration'] = unique.groupby('Driver')['PitInTime'].transform('mean')\n",
    "            unique['Year'] = year\n",
    "            unique = unique.rename(columns={'Driver': 'Abbreviation'})\n",
    "            unique[['Abbreviation', 'PitStopCount', 'AveragePitStopDuration']].drop_duplicates()      \n",
    "            pitstop_data.append(unique[['Abbreviation', 'PitStopCount', 'AveragePitStopDuration', 'Year']].drop_duplicates())\n",
    "        except Exception as e:\n",
    "            print(f\"Could not load data for year {year}: {e}\")\n",
    "    pitstop_df = pd.concat(pitstop_data, ignore_index=True)\n",
    "    return pitstop_df "
   ]
  },
  {
   "cell_type": "code",
   "execution_count": null,
   "id": "986bfdac",
   "metadata": {},
   "outputs": [],
   "source": [
    "df_pitstop = pitstop_analysis(2018, 2024)\n",
    "df_general = get_silverstone_results(2018, 2024)"
   ]
  },
  {
   "cell_type": "code",
   "execution_count": null,
   "id": "b2435ed4",
   "metadata": {},
   "outputs": [],
   "source": [
    "final_df = pd.merge(df_general, df_pitstop, on=['Abbreviation', 'Year'], how='left')\n",
    "final_df"
   ]
  }
 ],
 "metadata": {
  "kernelspec": {
   "display_name": ".venv",
   "language": "python",
   "name": "python3"
  },
  "language_info": {
   "name": "python",
   "version": "3.12.1"
  }
 },
 "nbformat": 4,
 "nbformat_minor": 5
}
